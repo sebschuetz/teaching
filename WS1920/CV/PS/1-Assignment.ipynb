{
 "cells": [
  {
   "cell_type": "markdown",
   "metadata": {},
   "source": [
    "# Assignment 1 (10 points)\n",
    "(due on Oct. 15, 23:59pm)"
   ]
  },
  {
   "cell_type": "markdown",
   "metadata": {},
   "source": [
    "In the first assignment, we create our own **CIFAR-10** dataset with only 500 samples (in particular 50 samples per class). The assignment is split into 3 sub-tasks, see below:"
   ]
  },
  {
   "cell_type": "code",
   "execution_count": 1,
   "metadata": {},
   "outputs": [],
   "source": [
    "import torch\n",
    "import torchvision\n",
    "from torchvision.datasets import MNIST, CIFAR10\n",
    "import torchvision.transforms as transforms\n",
    "from torch.utils.data.dataset import Subset\n",
    "\n",
    "%matplotlib inline\n",
    "import matplotlib.pyplot as plt\n",
    "import numpy as np\n",
    "import torch.nn as nn\n",
    "\n",
    "from sklearn.model_selection import StratifiedShuffleSplit\n",
    "\n",
    "torch.manual_seed(1234);\n",
    "np.random.seed(1234);\n"
   ]
  },
  {
   "cell_type": "markdown",
   "metadata": {},
   "source": [
    "First, we download the *training* split of CIFAR-10, and collect all labels."
   ]
  },
  {
   "cell_type": "code",
   "execution_count": 2,
   "metadata": {},
   "outputs": [
    {
     "name": "stdout",
     "output_type": "stream",
     "text": [
      "Files already downloaded and verified\n"
     ]
    }
   ],
   "source": [
    "ds_train = CIFAR10('/tmp/cifar', \n",
    "                 train=True, \n",
    "                 transform=transforms.ToTensor(), \n",
    "                 target_transform=None, \n",
    "                 download=True)\n",
    "lab = [ds_train[x][1] for x in range(len(ds_train))]"
   ]
  },
  {
   "cell_type": "code",
   "execution_count": 3,
   "metadata": {},
   "outputs": [],
   "source": [
    "classes = ['plane', \n",
    "           'car', \n",
    "           'bird', \n",
    "           'cat',\n",
    "           'deer', \n",
    "           'dog', \n",
    "           'frog', \n",
    "           'horse', \n",
    "           'ship', \n",
    "           'truck']"
   ]
  },
  {
   "cell_type": "markdown",
   "metadata": {},
   "source": [
    "This dataset contains natural images. We have a total of 50,000 images available. Elements from the dataset `ds_train` are tuple of the form (image, label). We can access, e.g., the first image via"
   ]
  },
  {
   "cell_type": "code",
   "execution_count": 4,
   "metadata": {},
   "outputs": [],
   "source": [
    "img = ds_train[0][0] # first image in the dataset (a tensor)"
   ]
  },
  {
   "cell_type": "markdown",
   "metadata": {},
   "source": [
    "... and its label via"
   ]
  },
  {
   "cell_type": "code",
   "execution_count": 5,
   "metadata": {},
   "outputs": [
    {
     "name": "stdout",
     "output_type": "stream",
     "text": [
      "6 (frog)\n"
     ]
    }
   ],
   "source": [
    "img_lab = ds_train[0][1] # label of the first image in the dataset\n",
    "print('{} ({})'.format(img_lab, classes[img_lab]))"
   ]
  },
  {
   "cell_type": "markdown",
   "metadata": {},
   "source": [
    "### Task 1\n",
    "Each (image, label) tupel in the CIFAR-10 training dataset has an index, e.g., `ds_train[100]`. Create 10 different lists of 500 indices such that the labels corresponding to these indices are balanced, that is, label 0 occurs 50 times, label 1 50 times, etc. \n",
    "\n",
    "**Hint**: use `sklearn.model_selection.StratifiedShuffleSplit`"
   ]
  },
  {
   "cell_type": "code",
   "execution_count": 6,
   "metadata": {},
   "outputs": [],
   "source": [
    "def generate_train_indices(lab, n_splits=10, train_size=500):\n",
    "    sss = StratifiedShuffleSplit(n_splits, train_size)\n",
    "    X = np.zeros(len(lab))\n",
    "    y = lab\n",
    "    return [train_index[1] for train_index in sss.split(X, y)]\n",
    "    \n",
    "# test your code with\n",
    "train_indices = generate_train_indices(lab, 10, 500)\n",
    "\n",
    "assert type(train_indices) == list\n",
    "assert len(train_indices) == 10\n",
    "for ti in train_indices:\n",
    "    assert len(ti) == 500\n"
   ]
  },
  {
   "cell_type": "markdown",
   "metadata": {},
   "source": [
    "### Task 2\n",
    "Use one of these lists to then create a version of the CIFAR-10 dataset with exactly 500 samples, e.g., stored in\n",
    "variable `ds_train_subset`.\n",
    "\n",
    "**Hint**: use `torch.utils.data.dataset.Subset`"
   ]
  },
  {
   "cell_type": "code",
   "execution_count": 14,
   "metadata": {},
   "outputs": [],
   "source": [
    "ds_train_subset = torch.utils.data.Subset(ds_train, train_indices[1])"
   ]
  },
  {
   "cell_type": "markdown",
   "metadata": {},
   "source": [
    "You can also easily check if the labels are balanced via:"
   ]
  },
  {
   "cell_type": "code",
   "execution_count": 15,
   "metadata": {},
   "outputs": [
    {
     "name": "stdout",
     "output_type": "stream",
     "text": [
      "Counter({5: 50, 0: 50, 2: 50, 7: 50, 9: 50, 3: 50, 8: 50, 6: 50, 1: 50, 4: 50})\n"
     ]
    }
   ],
   "source": [
    "from collections import Counter\n",
    "print(Counter([ds_train_subset[i][1] for i in range(len(ds_train_subset))]))"
   ]
  },
  {
   "cell_type": "markdown",
   "metadata": {},
   "source": [
    "### Task 3\n",
    "Write a method that allows you to visualize a selection of images from your dataset."
   ]
  },
  {
   "cell_type": "code",
   "execution_count": 156,
   "metadata": {},
   "outputs": [],
   "source": [
    "def show_images(ds: torchvision.datasets.cifar.CIFAR10, \n",
    "                indices: list):\n",
    "    assert len(indices) == 3\n",
    "    assert np.max(indices) < len(ds)\n",
    "    sel_images = [ds[indices[0]][0],ds[indices[1]][0],ds[indices[2]][0]]\n",
    "    grid_img = torchvision.utils.make_grid(sel_images, nrow=3)\n",
    "    plt.imshow(grid_img.permute(1, 2, 0))\n"
   ]
  },
  {
   "cell_type": "markdown",
   "metadata": {},
   "source": [
    "Test your code with, e.g.:"
   ]
  },
  {
   "cell_type": "code",
   "execution_count": 158,
   "metadata": {},
   "outputs": [
    {
     "data": {
      "image/png": "[encoded data removed]",
      "text/plain": [
       "<Figure size 432x288 with 1 Axes>"
      ]
     },
     "metadata": {
      "needs_background": "light"
     },
     "output_type": "display_data"
    }
   ],
   "source": [
    "show_images(ds_train_subset,[2,498,3])"
   ]
  }
 ],
 "metadata": {
  "kernelspec": {
   "display_name": "Python 3",
   "language": "python",
   "name": "python3"
  },
  "language_info": {
   "codemirror_mode": {
    "name": "ipython",
    "version": 3
   },
   "file_extension": ".py",
   "mimetype": "text/x-python",
   "name": "python",
   "nbconvert_exporter": "python",
   "pygments_lexer": "ipython3",
   "version": "3.7.3"
  }
 },
 "nbformat": 4,
 "nbformat_minor": 2
}
